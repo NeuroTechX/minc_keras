{
  "nbformat": 4,
  "nbformat_minor": 0,
  "metadata": {
    "colab": {
      "name": "NeuroTech_MTL_21_3_18.ipynb",
      "version": "0.3.2",
      "views": {},
      "default_view": {},
      "provenance": [
        {
          "file_id": "/v2/external/notebooks/welcome.ipynb",
          "timestamp": 1521132764355
        }
      ],
      "collapsed_sections": []
    },
    "kernelspec": {
      "display_name": "Python 3",
      "name": "python3"
    },
    "accelerator": "GPU"
  },
  "cells": [
    {
      "metadata": {
        "id": "XM-vJCHYhGmp",
        "colab_type": "code",
        "colab": {
          "autoexec": {
            "startup": false,
            "wait_interval": 0
          }
        }
      },
      "cell_type": "code",
      "source": [
        "#Get minc_keras code from github\n",
        "!git clone https://github.com/tfunck/minc_keras"
      ],
      "execution_count": 0,
      "outputs": []
    },
    {
      "metadata": {
        "id": "iLX-104ahZDj",
        "colab_type": "code",
        "colab": {
          "autoexec": {
            "startup": false,
            "wait_interval": 0
          }
        }
      },
      "cell_type": "code",
      "source": [
        "#Uncompress data we will be working with \n",
        "!tar -xjf minc_keras/data/output.tar.bz2"
      ],
      "execution_count": 0,
      "outputs": []
    },
    {
      "metadata": {
        "id": "6T9gQYCxdu6i",
        "colab_type": "code",
        "colab": {
          "autoexec": {
            "startup": false,
            "wait_interval": 0
          }
        },
        "cellView": "code"
      },
      "cell_type": "code",
      "source": [
        "#Run minc_keras\n",
        "!python3 minc_keras/minc_keras.py --source output/ --target . --epochs 5 --model-type \"model_0_0\" --input-str \"T1w_anat\" --label-str \"seg\" --predict 1 --ratios 0.7 0.15 --activation-hidden \"relu\" --activation-output \"softmax\" \n"
      ],
      "execution_count": 0,
      "outputs": []
    },
    {
      "metadata": {
        "id": "aUPMcLluqUXB",
        "colab_type": "code",
        "colab": {
          "autoexec": {
            "startup": false,
            "wait_interval": 0
          }
        }
      },
      "cell_type": "code",
      "source": [
        "#Download images in report/ and predict/ folder \n",
        "#Warning : this may only work on Google Chrome\n",
        "#Warning : Your browser may complain that it is trying to download multiple files. You may need to click on a warning button on your browser to approve the download of multiple files.\n",
        "from google.colab import files\n",
        "from glob import glob\n",
        "for fn in glob('predict/*/*.png') :  files.download(fn)\n",
        "for fn in glob('report/*.png') :  files.download(fn)"
      ],
      "execution_count": 0,
      "outputs": []
    },
    {
      "metadata": {
        "id": "5hQOtSQQDYle",
        "colab_type": "code",
        "colab": {
          "autoexec": {
            "startup": false,
            "wait_interval": 0
          }
        }
      },
      "cell_type": "code",
      "source": [
        "#Plot the metrics graph in browser (useful if you can't download the images)\n",
        "import matplotlib.pyplot as plt\n",
        "plt.imshow(plt.imread('./report//model_metric_plot.png'))"
      ],
      "execution_count": 0,
      "outputs": []
    },
    {
      "metadata": {
        "id": "-WU_yIfmDeZj",
        "colab_type": "text"
      },
      "cell_type": "markdown",
      "source": [
        ""
      ]
    },
    {
      "metadata": {
        "id": "DqSDdj6_rJRI",
        "colab_type": "code",
        "colab": {
          "autoexec": {
            "startup": false,
            "wait_interval": 0
          }
        }
      },
      "cell_type": "code",
      "source": [
        "#Remove the saved model. Useful if you want to run a new model and don't want to save changes to the one saved in this directory.\n",
        "#!rm -r model/\n"
      ],
      "execution_count": 0,
      "outputs": []
    }
  ]
}